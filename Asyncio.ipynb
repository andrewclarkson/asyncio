{
 "metadata": {
  "name": "",
  "signature": "sha256:3135eea13b1f931edb9c3cc5b7b930cb48f4632625b224b512b2879c6f44775e"
 },
 "nbformat": 3,
 "nbformat_minor": 0,
 "worksheets": [
  {
   "cells": [
    {
     "cell_type": "markdown",
     "metadata": {
      "slideshow": {
       "slide_type": "slide"
      }
     },
     "source": [
      "#The Latest Asynchronous Hotness\n",
      "\n",
      "Called `asyncio`.\n",
      "\n",
      "Available in `python >= 3.3`.\n",
      "\n",
      "Disclaimer: you are living on the edge; this stuff may change.\n"
     ]
    },
    {
     "cell_type": "markdown",
     "metadata": {},
     "source": [
      "#Why do I care?\n",
      "\n",
      "![Node.js Ermahgerd](./ermahgerd.jpg)\n",
      "\n",
      "Node is __cool__! \n",
      "\n",
      "Built on:\n",
      "* epoll (linux)\n",
      "* "
     ]
    },
    {
     "cell_type": "code",
     "collapsed": false,
     "input": [
      "# Get the hotness!\n",
      "import asyncio"
     ],
     "language": "python",
     "metadata": {
      "slideshow": {
       "slide_type": "subslide"
      }
     },
     "outputs": [],
     "prompt_number": 2
    },
    {
     "cell_type": "markdown",
     "metadata": {
      "slideshow": {
       "slide_type": "slide"
      }
     },
     "source": [
      "#Asyncio"
     ]
    },
    {
     "cell_type": "code",
     "collapsed": false,
     "input": [
      "# Server: the naive way\n",
      "    \n",
      "server = asyncio.start_server(connected, host=\"127.0.0.1\", port=8080)\n",
      "\n",
      "def connected(reader, writer):\n",
      "    \"\"\"\n",
      "    The client connected callback\n",
      "    \"\"\"\n",
      "    line = reader.readline()\n",
      "    if line == \"hello\":\n",
      "        writer.write(\"hi, 'der!\")\n",
      "    else:\n",
      "        writer.write(\"WRONG!\")"
     ],
     "language": "python",
     "metadata": {
      "slideshow": {
       "slide_type": "subslide"
      }
     },
     "outputs": [],
     "prompt_number": 10
    },
    {
     "cell_type": "code",
     "collapsed": false,
     "input": [
      "#WAT??\n",
      "print(server)"
     ],
     "language": "python",
     "metadata": {},
     "outputs": [
      {
       "output_type": "stream",
       "stream": "stdout",
       "text": [
        "<generator object start_server at 0x7f894d585ca8>\n"
       ]
      }
     ],
     "prompt_number": 11
    },
    {
     "cell_type": "code",
     "collapsed": false,
     "input": [],
     "language": "python",
     "metadata": {},
     "outputs": [],
     "prompt_number": 11
    },
    {
     "cell_type": "code",
     "collapsed": false,
     "input": [],
     "language": "python",
     "metadata": {},
     "outputs": []
    }
   ],
   "metadata": {}
  }
 ]
}