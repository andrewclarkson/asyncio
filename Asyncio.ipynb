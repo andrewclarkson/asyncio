{
 "metadata": {
  "celltoolbar": "Slideshow",
  "name": "",
  "signature": "sha256:f8d08c487080caeab5d958cd925484a7318010cdfc9a461ce1f242a4bd6c17b0"
 },
 "nbformat": 3,
 "nbformat_minor": 0,
 "worksheets": [
  {
   "cells": [
    {
     "cell_type": "markdown",
     "metadata": {
      "slideshow": {
       "slide_type": "slide"
      }
     },
     "source": [
      "#The New `asyncio` Library\n",
      "## Coroutines, Futures, and Tasks!\n",
      "\n",
      "Andrew Clarkson @_andrewclarkson"
     ]
    },
    {
     "cell_type": "markdown",
     "metadata": {
      "slideshow": {
       "slide_type": "notes"
      }
     },
     "source": [
      "I'm going to attempt to explain the core of the new asyncio library and these three concepts (coroutines, futures, and tasks) and how they relate to each other.\n",
      "\n",
      "This isn't simple stuff, but it's really pretty cool if you can get the hang of it"
     ]
    },
    {
     "cell_type": "markdown",
     "metadata": {
      "slideshow": {
       "slide_type": "subslide"
      }
     },
     "source": [
      "#Clarification\n",
      "\n",
      "We're talking about `asyncio` aka \"Tulip\" (not asyncore, or asynchat).\n",
      "\n",
      "Available in `python >= 3.3`.\n",
      "\n",
      "Disclaimer: you are living on the edge."
     ]
    },
    {
     "cell_type": "markdown",
     "metadata": {
      "slideshow": {
       "slide_type": "notes"
      }
     },
     "source": [
      "So asyncio used to be code named \"tulip\". There are some other similar sounding modules in the standard library but we're talking about `asyncio`\n",
      "\n",
      "It's in the standard library since python 3.3. If you really want to use a lot of the same concepts in earlier versions just use Tornado.\n",
      "\n",
      "There's some stuff that will (and probably should) change."
     ]
    },
    {
     "cell_type": "markdown",
     "metadata": {
      "slideshow": {
       "slide_type": "slide"
      }
     },
     "source": [
      "#What does \"asynchronous\" even mean?\n",
      "\n",
      "synchronous: on a schedule\n",
      "\n",
      "asynchronous: not on a schedule\n"
     ]
    },
    {
     "cell_type": "markdown",
     "metadata": {},
     "source": [
      "Before I go too far, I want to clarify exactly what I mean by some of these terms.\n",
      "\n",
      "Like any buzz word the useful meaning of the word gets diluted or distorted.\n",
      "\n",
      "Some examples of synchronous things:\n",
      "* appointments\n",
      "* sunrise\n",
      "* screen refreshes\n",
      "\n",
      "Some example of asynchronous things:\n",
      "* mouse clicks\n",
      "* conversations\n",
      "* most things humans do"
     ]
    },
    {
     "cell_type": "markdown",
     "metadata": {
      "slideshow": {
       "slide_type": "subslide"
      }
     },
     "source": [
      "#Asynchronous vs. Non-blocking\n",
      "\n",
      "asynchronous describes an event\n",
      "\n",
      "non-blocking describes an action"
     ]
    },
    {
     "cell_type": "markdown",
     "metadata": {},
     "source": [
      "Most of the time it seems like when we say asynchronous we mean non-blocking\n",
      "\n",
      "like `asyncio` really should probably be non-blocking I/O but that doesn't sound as cool."
     ]
    },
    {
     "cell_type": "markdown",
     "metadata": {
      "slideshow": {
       "slide_type": "subslide"
      }
     },
     "source": [
      "#Non-blocking Analogies?"
     ]
    },
    {
     "cell_type": "markdown",
     "metadata": {},
     "source": [
      "There are a bunch of analogies. Most of them very seriously confuse async and non-blocking.\n",
      "\n",
      "I want to try this one on for size:\n",
      "\n",
      "You're the boss. You ask someone to do a task and you have no idea how long it will take. (asynchronous)\n",
      "\n",
      "Let's assume you have two basic ways of handling the situation:\n",
      "\n",
      "1. Stare over their shoulder waiting for them to finish -> blocking\n",
      "2. Figure out some sort of notification process -> non-blocking"
     ]
    },
    {
     "cell_type": "markdown",
     "metadata": {
      "slideshow": {
       "slide_type": "slide"
      }
     },
     "source": [
      "#The Brief History of I/O Strategies\n",
      "\n",
      "described by using implementing a DAYTIME server\n",
      "\n",
      "You can play along with the examples."
     ]
    },
    {
     "cell_type": "code",
     "collapsed": false,
     "input": [
      "import socket\n",
      "IP = socket.gethostbyname(socket.gethostname())\n",
      "print(IP + ':1313')"
     ],
     "language": "python",
     "metadata": {
      "slideshow": {
       "slide_type": "fragment"
      }
     },
     "outputs": [
      {
       "output_type": "stream",
       "stream": "stdout",
       "text": [
        "192.168.1.5:1313\n"
       ]
      }
     ],
     "prompt_number": 1
    },
    {
     "cell_type": "markdown",
     "metadata": {
      "slideshow": {
       "slide_type": "notes"
      }
     },
     "source": [
      "I'm going to walk through like the past 30 years or so of I/O history in the next few minutes\n",
      "\n",
      "I'll be serving these examples at the given address."
     ]
    },
    {
     "cell_type": "markdown",
     "metadata": {
      "slideshow": {
       "slide_type": "slide"
      }
     },
     "source": [
      "# Blocking\n",
      "\n",
      "This is the oldest simplest and stupidest approach. Handle one client at a time.\n",
      "\n",
      "Bank teller method."
     ]
    },
    {
     "cell_type": "code",
     "collapsed": false,
     "input": [
      "# ./examples/daytime_server_blocking.py\n",
      "\n",
      "import socketserver\n",
      "import socket\n",
      "import time\n",
      "\n",
      "class DaytimeServer(socketserver.TCPServer):\n",
      "    \"\"\"\n",
      "    Implements a DAYTIME protocol server the blocking way\n",
      "    \"\"\"\n",
      "    # BSD socket cruft\n",
      "    allow_reuse_address = True\n",
      "    \n",
      "    # Queue 'em up\n",
      "    request_queue_size = 50\n",
      "\n",
      "\n",
      "class Handler(socketserver.BaseRequestHandler):\n",
      "\n",
      "    def handle(self):\n",
      "        \"\"\"\n",
      "        Handles a TCP connection\n",
      "        \"\"\"\n",
      "\n",
      "        # Get the timezone string\n",
      "        timezone = time.tzname[0]\n",
      "\n",
      "        # your browser _really_ wants to give us some http headers\n",
      "        # if we just send a response, we'll get connection reset errors\n",
      "        self.request.recv(512)\n",
      "        \n",
      "        # waiting...\n",
      "        \n",
      "        data = time.ctime() + \"-\" + timezone\n",
      "\n",
      "        # This could take a while\n",
      "        self.request.sendall(data.encode())\n",
      "        \n",
      "        # waiting...\n",
      "        \n",
      "        self.request.close()\n",
      "\n",
      "IP = socket.gethostbyname(socket.gethostname())\n",
      "        \n",
      "server = DaytimeServer((IP, 1313), Handler)\n",
      "\n",
      "try:\n",
      "    server.serve_forever()\n",
      "    \n",
      "except KeyboardInterrupt:\n",
      "    # shutdown the server properly\n",
      "    server.socket.close()\n",
      "    server.shutdown()"
     ],
     "language": "python",
     "metadata": {
      "slideshow": {
       "slide_type": "subslide"
      }
     },
     "outputs": [],
     "prompt_number": 4
    },
    {
     "cell_type": "markdown",
     "metadata": {
      "slideshow": {
       "slide_type": "notes"
      }
     },
     "source": [
      "The key part of this example is:\n",
      "1. that it is queueing up clients and handling them one by one.\n",
      "2. that it is blocking execution on read and write"
     ]
    },
    {
     "cell_type": "markdown",
     "metadata": {},
     "source": [
      "# Threads + Blocking\n",
      "\n",
      "This was the approach of the older Apache servers\n",
      "\n",
      "This approach is fine for a few clients but it doesn't scale."
     ]
    },
    {
     "cell_type": "code",
     "collapsed": false,
     "input": [
      "# ./examples/daytime_server_threading.py\n",
      "\n",
      "import socketserver\n",
      "import socket\n",
      "import time\n",
      "\n",
      "# You could also do a \"process\" per client via socketserver.ForkingMixIn\n",
      "class DaytimeServer(socketserver.ThreadingMixIn, socketserver.TCPServer):\n",
      "    \"\"\"\n",
      "    Implements a DAYTIME protocol server the \"thread-per-client\" way\n",
      "    \"\"\"\n",
      "    # BSD socket cruft\n",
      "    allow_reuse_address = True\n",
      "    \n",
      "    # Queue 'em up\n",
      "    request_queue_size = 50\n",
      "\n",
      "\n",
      "class Handler(socketserver.BaseRequestHandler):\n",
      "\n",
      "    def handle(self):\n",
      "        \"\"\"\n",
      "        Handles a TCP connection\n",
      "        \"\"\"\n",
      "\n",
      "        timezone = time.tzname[0]\n",
      "\n",
      "        self.request.recv(1024)\n",
      "\n",
      "        # waiting...\n",
      "        \n",
      "        data = time.ctime() + \"-\" + timezone\n",
      "\n",
      "        self.request.sendall(data.encode())\n",
      "        \n",
      "        # waiting...\n",
      "        \n",
      "        self.request.close()\n",
      "\n",
      "IP = socket.gethostbyname(socket.gethostname())\n",
      "\n",
      "server = DaytimeServer((IP, 1313), Handler)\n",
      "\n",
      "try:\n",
      "    server.serve_forever()\n",
      "except KeyboardInterrupt:\n",
      "    # shutdown the server properly\n",
      "    server.socket.close()\n",
      "    server.shutdown()"
     ],
     "language": "python",
     "metadata": {},
     "outputs": []
    },
    {
     "cell_type": "markdown",
     "metadata": {
      "slideshow": {
       "slide_type": "notes"
      }
     },
     "source": [
      "# Better but still not so hot...\n",
      "\n",
      "parallelism != concurrency\n",
      "\n",
      "just making opening up more and more tellers doesn't really scale all that well.\n",
      "\n",
      "you are still blocking."
     ]
    },
    {
     "cell_type": "code",
     "collapsed": false,
     "input": [],
     "language": "python",
     "metadata": {},
     "outputs": []
    },
    {
     "cell_type": "markdown",
     "metadata": {},
     "source": [
      "#Introducing asyncio\n",
      "\n",
      "2 Api's:\n",
      "* High-level (streams)\n",
      "* Low-level (protocols, transports)"
     ]
    },
    {
     "cell_type": "markdown",
     "metadata": {},
     "source": [
      "#Highlevel Stream Interface:"
     ]
    },
    {
     "cell_type": "code",
     "collapsed": false,
     "input": [
      "import asyncio\n",
      "import time\n",
      "\n",
      "# Implement a DAYTIME protocol server\n",
      "\n",
      "# In node.js examples you usually see (req, res)\n",
      "def connected(reader, writer):\n",
      "    \"\"\"\n",
      "    The client connection callback\n",
      "    \"\"\"\n",
      "    \n",
      "    # get the timezone name\n",
      "    timezone = time.tzname[0]\n",
      "    \n",
      "    data = time.ctime() + \"-\" + timezone\n",
      "    \n",
      "    # write the time and the timezone to client\n",
      "    writer.write(data.encode())\n",
      "    \n",
      "    writer.close()\n",
      "  \n",
      "\n",
      "server = asyncio.start_server(connected, host=IP, port=1313, reuse_address=True)"
     ],
     "language": "python",
     "metadata": {
      "slideshow": {
       "slide_type": "subslide"
      }
     },
     "outputs": [],
     "prompt_number": 15
    },
    {
     "cell_type": "code",
     "collapsed": false,
     "input": [
      "#WAT??\n",
      "server"
     ],
     "language": "python",
     "metadata": {},
     "outputs": [
      {
       "metadata": {},
       "output_type": "pyout",
       "prompt_number": 3,
       "text": [
        "<generator object start_server at 0x7fe7d5c2bab0>"
       ]
      }
     ],
     "prompt_number": 3
    },
    {
     "cell_type": "markdown",
     "metadata": {},
     "source": [
      "#WAT?\n",
      "\n",
      "`server` is a coroutine which is a generator\n",
      "\n",
      "\"coroutine\" can be used for:\n",
      "* a function\n",
      "* the result of calling that function\n",
      "\n",
      "coroutines can only do 2 things:\n",
      "1. get called from other coroutines\n",
      "2. get converted into a task then run in a loop"
     ]
    },
    {
     "cell_type": "code",
     "collapsed": false,
     "input": [
      "asyncio.iscoroutine(server)"
     ],
     "language": "python",
     "metadata": {},
     "outputs": [
      {
       "metadata": {},
       "output_type": "pyout",
       "prompt_number": 16,
       "text": [
        "True"
       ]
      }
     ],
     "prompt_number": 16
    },
    {
     "cell_type": "code",
     "collapsed": false,
     "input": [
      "loop = asyncio.get_event_loop()\n",
      "# technically loop.run_until_complete(Task(server))\n",
      "loop.run_until_complete(server)\n",
      "try:\n",
      "    loop.run_forever()\n",
      "except KeyboardInterrupt:\n",
      "    server.close()"
     ],
     "language": "python",
     "metadata": {},
     "outputs": [
      {
       "ename": "AttributeError",
       "evalue": "'NoneType' object has no attribute 'select'",
       "output_type": "pyerr",
       "traceback": [
        "\u001b[1;31m---------------------------------------------------------------------------\u001b[0m\n\u001b[1;31mAttributeError\u001b[0m                            Traceback (most recent call last)",
        "\u001b[1;32m<ipython-input-17-ecc2153b93a0>\u001b[0m in \u001b[0;36m<module>\u001b[1;34m()\u001b[0m\n\u001b[0;32m      1\u001b[0m \u001b[0mloop\u001b[0m \u001b[1;33m=\u001b[0m \u001b[0masyncio\u001b[0m\u001b[1;33m.\u001b[0m\u001b[0mget_event_loop\u001b[0m\u001b[1;33m(\u001b[0m\u001b[1;33m)\u001b[0m\u001b[1;33m\u001b[0m\u001b[0m\n\u001b[0;32m      2\u001b[0m \u001b[1;31m# technically loop.run_until_complete(Task(server))\u001b[0m\u001b[1;33m\u001b[0m\u001b[1;33m\u001b[0m\u001b[0m\n\u001b[1;32m----> 3\u001b[1;33m \u001b[0mloop\u001b[0m\u001b[1;33m.\u001b[0m\u001b[0mrun_until_complete\u001b[0m\u001b[1;33m(\u001b[0m\u001b[0mserver\u001b[0m\u001b[1;33m)\u001b[0m\u001b[1;33m\u001b[0m\u001b[0m\n\u001b[0m\u001b[0;32m      4\u001b[0m \u001b[1;32mtry\u001b[0m\u001b[1;33m:\u001b[0m\u001b[1;33m\u001b[0m\u001b[0m\n\u001b[0;32m      5\u001b[0m     \u001b[0mloop\u001b[0m\u001b[1;33m.\u001b[0m\u001b[0mrun_forever\u001b[0m\u001b[1;33m(\u001b[0m\u001b[1;33m)\u001b[0m\u001b[1;33m\u001b[0m\u001b[0m\n",
        "\u001b[1;32m/usr/lib64/python3.4/asyncio/base_events.py\u001b[0m in \u001b[0;36mrun_until_complete\u001b[1;34m(self, future)\u001b[0m\n\u001b[0;32m    201\u001b[0m         \u001b[0mfuture\u001b[0m \u001b[1;33m=\u001b[0m \u001b[0mtasks\u001b[0m\u001b[1;33m.\u001b[0m\u001b[0masync\u001b[0m\u001b[1;33m(\u001b[0m\u001b[0mfuture\u001b[0m\u001b[1;33m,\u001b[0m \u001b[0mloop\u001b[0m\u001b[1;33m=\u001b[0m\u001b[0mself\u001b[0m\u001b[1;33m)\u001b[0m\u001b[1;33m\u001b[0m\u001b[0m\n\u001b[0;32m    202\u001b[0m         \u001b[0mfuture\u001b[0m\u001b[1;33m.\u001b[0m\u001b[0madd_done_callback\u001b[0m\u001b[1;33m(\u001b[0m\u001b[0m_raise_stop_error\u001b[0m\u001b[1;33m)\u001b[0m\u001b[1;33m\u001b[0m\u001b[0m\n\u001b[1;32m--> 203\u001b[1;33m         \u001b[0mself\u001b[0m\u001b[1;33m.\u001b[0m\u001b[0mrun_forever\u001b[0m\u001b[1;33m(\u001b[0m\u001b[1;33m)\u001b[0m\u001b[1;33m\u001b[0m\u001b[0m\n\u001b[0m\u001b[0;32m    204\u001b[0m         \u001b[0mfuture\u001b[0m\u001b[1;33m.\u001b[0m\u001b[0mremove_done_callback\u001b[0m\u001b[1;33m(\u001b[0m\u001b[0m_raise_stop_error\u001b[0m\u001b[1;33m)\u001b[0m\u001b[1;33m\u001b[0m\u001b[0m\n\u001b[0;32m    205\u001b[0m         \u001b[1;32mif\u001b[0m \u001b[1;32mnot\u001b[0m \u001b[0mfuture\u001b[0m\u001b[1;33m.\u001b[0m\u001b[0mdone\u001b[0m\u001b[1;33m(\u001b[0m\u001b[1;33m)\u001b[0m\u001b[1;33m:\u001b[0m\u001b[1;33m\u001b[0m\u001b[0m\n",
        "\u001b[1;32m/usr/lib64/python3.4/asyncio/base_events.py\u001b[0m in \u001b[0;36mrun_forever\u001b[1;34m(self)\u001b[0m\n\u001b[0;32m    182\u001b[0m             \u001b[1;32mwhile\u001b[0m \u001b[1;32mTrue\u001b[0m\u001b[1;33m:\u001b[0m\u001b[1;33m\u001b[0m\u001b[0m\n\u001b[0;32m    183\u001b[0m                 \u001b[1;32mtry\u001b[0m\u001b[1;33m:\u001b[0m\u001b[1;33m\u001b[0m\u001b[0m\n\u001b[1;32m--> 184\u001b[1;33m                     \u001b[0mself\u001b[0m\u001b[1;33m.\u001b[0m\u001b[0m_run_once\u001b[0m\u001b[1;33m(\u001b[0m\u001b[1;33m)\u001b[0m\u001b[1;33m\u001b[0m\u001b[0m\n\u001b[0m\u001b[0;32m    185\u001b[0m                 \u001b[1;32mexcept\u001b[0m \u001b[0m_StopError\u001b[0m\u001b[1;33m:\u001b[0m\u001b[1;33m\u001b[0m\u001b[0m\n\u001b[0;32m    186\u001b[0m                     \u001b[1;32mbreak\u001b[0m\u001b[1;33m\u001b[0m\u001b[0m\n",
        "\u001b[1;32m/usr/lib64/python3.4/asyncio/base_events.py\u001b[0m in \u001b[0;36m_run_once\u001b[1;34m(self)\u001b[0m\n\u001b[0;32m    776\u001b[0m                 \u001b[0mlogger\u001b[0m\u001b[1;33m.\u001b[0m\u001b[0mlog\u001b[0m\u001b[1;33m(\u001b[0m\u001b[0mlevel\u001b[0m\u001b[1;33m,\u001b[0m \u001b[1;34m'poll took %.3f seconds'\u001b[0m\u001b[1;33m,\u001b[0m \u001b[0mt1\u001b[0m\u001b[1;33m-\u001b[0m\u001b[0mt0\u001b[0m\u001b[1;33m)\u001b[0m\u001b[1;33m\u001b[0m\u001b[0m\n\u001b[0;32m    777\u001b[0m         \u001b[1;32melse\u001b[0m\u001b[1;33m:\u001b[0m\u001b[1;33m\u001b[0m\u001b[0m\n\u001b[1;32m--> 778\u001b[1;33m             \u001b[0mevent_list\u001b[0m \u001b[1;33m=\u001b[0m \u001b[0mself\u001b[0m\u001b[1;33m.\u001b[0m\u001b[0m_selector\u001b[0m\u001b[1;33m.\u001b[0m\u001b[0mselect\u001b[0m\u001b[1;33m(\u001b[0m\u001b[0mtimeout\u001b[0m\u001b[1;33m)\u001b[0m\u001b[1;33m\u001b[0m\u001b[0m\n\u001b[0m\u001b[0;32m    779\u001b[0m         \u001b[0mself\u001b[0m\u001b[1;33m.\u001b[0m\u001b[0m_process_events\u001b[0m\u001b[1;33m(\u001b[0m\u001b[0mevent_list\u001b[0m\u001b[1;33m)\u001b[0m\u001b[1;33m\u001b[0m\u001b[0m\n\u001b[0;32m    780\u001b[0m \u001b[1;33m\u001b[0m\u001b[0m\n",
        "\u001b[1;31mAttributeError\u001b[0m: 'NoneType' object has no attribute 'select'"
       ]
      }
     ],
     "prompt_number": 17
    },
    {
     "cell_type": "markdown",
     "metadata": {},
     "source": [
      "#Double Wat??\n",
      "\n",
      "* callbacks should be coroutines\n",
      "* read and write (drain) are coroutines too"
     ]
    },
    {
     "cell_type": "code",
     "collapsed": false,
     "input": [
      "print(asyncio.iscoroutinefunction(connected))\n",
      "print(asyncio.iscoroutinefunction(asyncio.StreamReader.read))"
     ],
     "language": "python",
     "metadata": {},
     "outputs": [
      {
       "output_type": "stream",
       "stream": "stdout",
       "text": [
        "False\n",
        "True\n",
        "False\n"
       ]
      }
     ],
     "prompt_number": 27
    },
    {
     "cell_type": "code",
     "collapsed": false,
     "input": [
      "import asyncio\n",
      "import time\n",
      "\n",
      "@asyncio.coroutine\n",
      "def connected(reader, writer):\n",
      "    \"\"\"\n",
      "    The client connection callback\n",
      "    \"\"\"\n",
      "\n",
      "    timezone = time.tzname[0]\n",
      "\n",
      "    # set 'em up!\n",
      "    writer.write(bytes(time.ctime() + \"-\" + timezone, \"ascii\"))\n",
      "    \n",
      "    writer.close()\n",
      "\n",
      "loop = asyncio.get_event_loop()\n",
      "server = asyncio.start_server(connected, host=IP, port=1313)\n",
      "loop.run_until_complete(server)\n",
      "\n",
      "try:\n",
      "    loop.run_forever()\n",
      "except KeyboardInterrupt:\n",
      "    server.close()"
     ],
     "language": "python",
     "metadata": {},
     "outputs": []
    },
    {
     "cell_type": "markdown",
     "metadata": {},
     "source": [
      "#Useful Stuff"
     ]
    },
    {
     "cell_type": "code",
     "collapsed": false,
     "input": [
      "import asyncio\n",
      "import time\n",
      "\n",
      "http_request = \"GET {uri} HTTP/1.1\\r\\nHost: {host}\\r\\n\\r\\n\"\n",
      "\n",
      "@asyncio.coroutine\n",
      "def get(schema):\n",
      "\n",
      "    host = \"schema.org\"\n",
      "\n",
      "    reader, writer = yield from asyncio.open_connection(host, 80)\n",
      "\n",
      "    print(\"got connection\")\n",
      "\n",
      "    request = http_request.format(host = host, uri = \"/\" + schema)\n",
      "\n",
      "    writer.write(request.encode())\n",
      "\n",
      "    yield from writer.drain()\n",
      "\n",
      "    content = bytes()\n",
      "\n",
      "    while True:\n",
      "        \n",
      "        data = yield from reader.read(1024)\n",
      "\n",
      "        length = len(data)\n",
      "\n",
      "        print(\"got %d bytes\" % length)\n",
      "\n",
      "        content += data\n",
      "\n",
      "        if length == 0:\n",
      "            break\n",
      "\n",
      "    return content.decode()\n",
      "\n",
      "futures = []\n",
      "\n",
      "schemas = [\"Event\", \"Thing\", \"Date\", \"Person\", \"Place\"]\n",
      "\n",
      "for schema in schemas:\n",
      "    future = asyncio.async(get(schema))\n",
      "    futures.append(future)\n",
      "\n",
      "loop = asyncio.get_event_loop()\n",
      "try:\n",
      "    start = time.clock()\n",
      "    loop.run_until_complete(asyncio.wait(futures))\n",
      "    print(\"Elapsed: %d\" % time.clock - start)\n",
      "except KeyboardInterrupt:\n",
      "    loop.close()"
     ],
     "language": "python",
     "metadata": {},
     "outputs": [
      {
       "output_type": "stream",
       "stream": "stdout",
       "text": [
        "got connection\n",
        "got connection\n",
        "got 1024 bytes"
       ]
      },
      {
       "output_type": "stream",
       "stream": "stdout",
       "text": [
        "\n",
        "got 1024 bytes\n",
        "got 1024 bytes\n",
        "got 1024 bytes\n",
        "got 158 bytes\n",
        "got 1024 bytes\n",
        "got 1024 bytes\n",
        "got 1024 bytes\n",
        "got 1024 bytes\n",
        "got 1024 bytes\n",
        "got 1024 bytes\n",
        "got 1024 bytes\n",
        "got 1024 bytes\n",
        "got 316 bytes\n",
        "got 1024 bytes\n",
        "got 394 bytes\n",
        "got 1024 bytes\n",
        "got 394 bytes\n",
        "got 1024 bytes\n",
        "got 394 bytes\n",
        "got 1024 bytes\n",
        "got 394 bytes\n",
        "got 1024 bytes\n",
        "got 1024 bytes\n",
        "got 788 bytes\n",
        "got 1024 bytes\n",
        "got 1024 bytes\n",
        "got 788 bytes\n",
        "got 1024 bytes\n",
        "got 394 bytes\n",
        "got 862 bytes\n",
        "got 1024 bytes\n",
        "got 1024 bytes\n",
        "got 788 bytes\n",
        "got 1024 bytes\n",
        "got 394 bytes\n",
        "got 1024 bytes\n",
        "got 394 bytes\n",
        "got 1024 bytes\n",
        "got 394 bytes\n",
        "got 1024 bytes\n",
        "got 394 bytes\n",
        "got 1024 bytes\n",
        "got 394 bytes\n",
        "got 1024 bytes\n",
        "got 394 bytes\n",
        "got 1024 bytes\n",
        "got 394 bytes\n",
        "got 1024 bytes\n",
        "got 394 bytes\n",
        "got 1024 bytes\n",
        "got 394 bytes\n",
        "got 1024 bytes\n",
        "got 394 bytes\n",
        "got 1024 bytes\n",
        "got 394 bytes\n",
        "got 1024 bytes\n",
        "got 394 bytes\n",
        "got 1024 bytes\n",
        "got 394 bytes\n",
        "got 1024 bytes"
       ]
      },
      {
       "output_type": "stream",
       "stream": "stdout",
       "text": [
        "\n",
        "got 394 bytes\n",
        "got 1024 bytes\n",
        "got 394 bytes\n",
        "got 1024 bytes\n",
        "got 394 bytes\n",
        "got 1024 bytes\n",
        "got 394 bytes\n",
        "got 1024 bytes\n",
        "got 394 bytes\n",
        "got 1024 bytes\n",
        "got 394 bytes\n",
        "got 1024 bytes\n",
        "got 394 bytes\n",
        "got 1024 bytes\n",
        "got 1024 bytes\n",
        "got 30 bytes\n",
        "got connection"
       ]
      },
      {
       "output_type": "stream",
       "stream": "stdout",
       "text": [
        "\n",
        "got connection\n",
        "got connection\n",
        "got 1024 bytes"
       ]
      },
      {
       "output_type": "stream",
       "stream": "stdout",
       "text": [
        "\n",
        "got 394 bytes\n",
        "got 1024 bytes\n",
        "got 1024 bytes\n",
        "got 1024 bytes\n",
        "got 1024 bytes\n",
        "got 158 bytes\n",
        "got 1024 bytes\n",
        "got 1024 bytes\n",
        "got 1024 bytes\n",
        "got 1024 bytes\n",
        "got 158 bytes\n",
        "got 1024 bytes\n",
        "got 1024 bytes\n",
        "got 788 bytes\n",
        "got 1024 bytes\n",
        "got 394 bytes\n",
        "got 1024 bytes\n",
        "got 1024 bytes\n",
        "got 788 bytes\n",
        "got 1024 bytes"
       ]
      },
      {
       "output_type": "stream",
       "stream": "stdout",
       "text": [
        "\n",
        "got 1024 bytes\n",
        "got 1024 bytes\n",
        "got 1024 bytes\n",
        "got 158 bytes\n",
        "got 1024 bytes\n",
        "got 1024 bytes\n",
        "got 1024 bytes\n",
        "got 1024 bytes\n",
        "got 158 bytes\n",
        "got 1024 bytes\n",
        "got 1024 bytes\n",
        "got 788 bytes\n",
        "got 1024 bytes\n",
        "got 394 bytes\n",
        "got 1024 bytes\n",
        "got 394 bytes\n",
        "got 1024 bytes\n",
        "got 1024 bytes\n",
        "got 788 bytes\n",
        "got 1024 bytes\n",
        "got 1024 bytes\n",
        "got 788 bytes\n",
        "got 1024 bytes\n",
        "got 394 bytes\n",
        "got 112 bytes\n",
        "got 1024 bytes"
       ]
      },
      {
       "output_type": "stream",
       "stream": "stdout",
       "text": [
        "\n",
        "got 1024 bytes\n",
        "got 1024 bytes\n",
        "got 1024 bytes\n",
        "got 158 bytes\n",
        "got 1024 bytes\n",
        "got 1024 bytes\n",
        "got 788 bytes\n",
        "got 1024 bytes\n",
        "got 394 bytes\n",
        "got 1024 bytes\n",
        "got 240 bytes\n",
        "got 1024 bytes\n",
        "got 1024 bytes\n",
        "got 788 bytes\n",
        "got 1024 bytes\n",
        "got 394 bytes\n",
        "got 1024 bytes\n",
        "got 1024 bytes\n",
        "got 788 bytes\n",
        "got 1024 bytes\n",
        "got 394 bytes\n",
        "got 1024 bytes\n",
        "got 1024 bytes\n",
        "got 788 bytes\n",
        "got 1024 bytes\n",
        "got 394 bytes\n",
        "got 1024 bytes\n",
        "got 394 bytes\n",
        "got 1024 bytes\n",
        "got 394 bytes\n",
        "got 1024 bytes\n",
        "got 1024 bytes\n",
        "got 788 bytes\n",
        "got 1024 bytes\n",
        "got 394 bytes\n",
        "got 1024 bytes\n",
        "got 394 bytes\n",
        "got 1024 bytes\n",
        "got 394 bytes\n",
        "got 1024 bytes\n",
        "got 394 bytes\n",
        "got 1024 bytes\n",
        "got 1024 bytes\n",
        "got 788 bytes\n",
        "got 1024 bytes"
       ]
      },
      {
       "output_type": "stream",
       "stream": "stdout",
       "text": [
        "\n",
        "got 1024 bytes\n",
        "got 1024 bytes\n",
        "got 1024 bytes\n",
        "got 1024 bytes\n",
        "got 1024 bytes\n",
        "got 1024 bytes\n",
        "got 1024 bytes\n",
        "got 1024 bytes\n",
        "got 710 bytes\n",
        "got 1024 bytes\n",
        "got 1024 bytes\n",
        "got 1024 bytes\n",
        "got 1024 bytes\n",
        "got 158 bytes\n",
        "got 1024 bytes\n",
        "got 1024 bytes\n",
        "got 788 bytes\n",
        "got 1024 bytes\n",
        "got 394 bytes\n",
        "got 578 bytes\n"
       ]
      }
     ],
     "prompt_number": 1
    },
    {
     "cell_type": "code",
     "collapsed": false,
     "input": [],
     "language": "python",
     "metadata": {},
     "outputs": []
    }
   ],
   "metadata": {}
  }
 ]
}